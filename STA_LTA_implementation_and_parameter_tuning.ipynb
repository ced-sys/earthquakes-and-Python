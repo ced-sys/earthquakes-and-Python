{
  "nbformat": 4,
  "nbformat_minor": 0,
  "metadata": {
    "colab": {
      "private_outputs": true,
      "provenance": [],
      "authorship_tag": "ABX9TyOBKuMVjMSEUiNgoEwXqrCj",
      "include_colab_link": true
    },
    "kernelspec": {
      "name": "python3",
      "display_name": "Python 3"
    },
    "language_info": {
      "name": "python"
    }
  },
  "cells": [
    {
      "cell_type": "markdown",
      "metadata": {
        "id": "view-in-github",
        "colab_type": "text"
      },
      "source": [
        "<a href=\"https://colab.research.google.com/github/cedamusk/earthquakes-and-Python/blob/main/STA_LTA_implementation_and_parameter_tuning.ipynb\" target=\"_parent\"><img src=\"https://colab.research.google.com/assets/colab-badge.svg\" alt=\"Open In Colab\"/></a>"
      ]
    },
    {
      "cell_type": "markdown",
      "source": [
        "# **STA/LTA Implementation and Parameter Tuning**"
      ],
      "metadata": {
        "id": "5GtugVzmAMT-"
      }
    },
    {
      "cell_type": "markdown",
      "source": [
        "## Install the Obspy library\n"
      ],
      "metadata": {
        "id": "DkL4lRG1vOSW"
      }
    },
    {
      "cell_type": "code",
      "source": [
        "!pip install obspy"
      ],
      "metadata": {
        "id": "kcREbSZZQh3O"
      },
      "execution_count": null,
      "outputs": []
    },
    {
      "cell_type": "markdown",
      "source": [
        "## Import"
      ],
      "metadata": {
        "id": "gcPHDzlp_GfV"
      }
    },
    {
      "cell_type": "code",
      "execution_count": null,
      "metadata": {
        "id": "mbktdN2L94Rl"
      },
      "outputs": [],
      "source": [
        "from obspy.signal.trigger import plot_trigger\n",
        "from obspy.signal.trigger import classic_sta_lta"
      ]
    },
    {
      "cell_type": "markdown",
      "source": [
        "## Choose an event"
      ],
      "metadata": {
        "id": "gnsm_Xv8_MY1"
      }
    },
    {
      "cell_type": "code",
      "source": [
        "from obspy import UTCDateTime\n",
        "origin_time=UTCDateTime(\"2015-08-11T16:22:15.200000\")\n",
        "#coordinates and the magnitude of the event\n",
        "eq_lon=123.202\n",
        "eq_lat=-8.624\n",
        "eq_dep=171.9\n",
        "eq_mag=3.9"
      ],
      "metadata": {
        "id": "oW4rG_rOQdde"
      },
      "execution_count": null,
      "outputs": []
    },
    {
      "cell_type": "markdown",
      "source": [
        "## Choose a station and get the waveform"
      ],
      "metadata": {
        "id": "UtrHL_wa_QUW"
      }
    },
    {
      "cell_type": "code",
      "source": [
        "from obspy.clients.fdsn import Client\n",
        "#IRIS is one of the providers\n",
        "client=Client(\"IRIS\")\n",
        "\n",
        "#input station information\n",
        "#network\n",
        "net='YS'\n",
        "#station\n",
        "sta='BAOP'\n",
        "#location\n",
        "loc=''\n",
        "#channel\n",
        "cha='BHZ'\n",
        "\n",
        "#starttime\n",
        "stt=origin_time\n",
        "#endtime\n",
        "edt=origin_time+120\n",
        "\n",
        "#Get the waveforms from the client\n",
        "st=client.get_waveforms(net,sta,loc,cha,stt,edt)\n",
        "st.plot()\n",
        "st.spectrogram()"
      ],
      "metadata": {
        "id": "iNzjFI9zRCqj"
      },
      "execution_count": null,
      "outputs": []
    },
    {
      "cell_type": "markdown",
      "source": [
        "## Filter the Data"
      ],
      "metadata": {
        "id": "Yg-1a-3N_Xhq"
      }
    },
    {
      "cell_type": "code",
      "source": [
        "#copy raw data\n",
        "st2=st.copy()\n",
        "\n",
        "#apply the bandpass between\n",
        "st2.filter(\"bandpass\",freqmin=1.0, freqmax=10.0)\n",
        "st2.plot()\n"
      ],
      "metadata": {
        "id": "c1dazh_zRfak"
      },
      "execution_count": null,
      "outputs": []
    },
    {
      "cell_type": "markdown",
      "source": [
        "## Triggering example"
      ],
      "metadata": {
        "id": "cXVzYsDF_cRj"
      }
    },
    {
      "cell_type": "code",
      "source": [
        "from obspy.signal.trigger import plot_trigger\n",
        "from obspy.signal.trigger import classic_sta_lta\n",
        "df=st2[0].stats.sampling_rate\n",
        "#set the STA=5 seconds, LTA=20 seconds\n",
        "cft=classic_sta_lta(st2[0].data, int(5*df), int(20*df))\n",
        "#set the trigger threshold =1.5, de-trigger threshold=0.27\n",
        "plot_trigger(st2[0], cft, 1.5, 0.27)"
      ],
      "metadata": {
        "id": "EY6oKAQhURqp"
      },
      "execution_count": null,
      "outputs": []
    },
    {
      "cell_type": "markdown",
      "source": [
        "# Adjust the STA/LTA trigger parameters\n",
        "## Selection of the short-time average window (STA) duration"
      ],
      "metadata": {
        "id": "BFKnSjTc_h2w"
      }
    },
    {
      "cell_type": "code",
      "source": [
        "df=st2[0].stats.sampling_rate\n",
        "#only set different short-time average window (STA) durations\n",
        "#sta=5seconds\n",
        "cft=classic_sta_lta(st2[0].data, int(5*df), int(20*df))\n",
        "plot_trigger(st2[0], cft, 1.5, 0.27)\n",
        "#sta=0.5 seconds, represents a smaller value\n",
        "cft=classic_sta_lta(st2[0].data, int(0.5*df), int(20*df))\n",
        "plot_trigger(st2[0], cft, 1.5, 0.27)\n",
        "#sta=10 seconds, represents a larger value\n",
        "\n",
        "cft=classic_sta_lta(st2[0].data, int(10*df), int(20*df))\n",
        "plot_trigger(st2[0], cft, 1.5, 0.27)"
      ],
      "metadata": {
        "id": "JxPZXdV1UrPM"
      },
      "execution_count": null,
      "outputs": []
    },
    {
      "cell_type": "markdown",
      "source": [
        "## Selection of Long-Time Average window (LTA) duration"
      ],
      "metadata": {
        "id": "KRI_GPDw_ujP"
      }
    },
    {
      "cell_type": "code",
      "source": [
        "#only set different long-time average window (STA) durations\n",
        "#lta=20 seconds\n",
        "cft=classic_sta_lta(st2[0].data, int(5*df), int(20*df))\n",
        "plot_trigger(st2[0], cft, 1.5, 0.27)\n",
        "\n",
        "#lta=10 seconds, represents a smaller value\n",
        "cft=classic_sta_lta(st2[0].data, int(5*df), int(10*df))\n",
        "plot_trigger(st2[0], cft, 1.5, 0.27)\n",
        "\n",
        "#lta=50 seconds, represents a larger value\n",
        "cft=classic_sta_lta(st2[0].data, int(5*df), int(50*df))\n",
        "plot_trigger(st2[0], cft, 1.5, 0.27)"
      ],
      "metadata": {
        "id": "-oQr3Pb6WkuK"
      },
      "execution_count": null,
      "outputs": []
    },
    {
      "cell_type": "markdown",
      "source": [
        "## Selection of STA/LTA trigger threshold"
      ],
      "metadata": {
        "id": "tRWV6iXN_50x"
      }
    },
    {
      "cell_type": "code",
      "source": [
        "cft=classic_sta_lta(st2[0].data, int(5*df), int(20*df))\n",
        "#only set different STA/LTA trigger threshold levels\n",
        "#STA/LTA trigger threshold =1.5\n",
        "plot_trigger(st2[0], cft, 1.5, 0.27)\n",
        "\n",
        "#STA/LTA trigger threshold =0.5, represents a small trigger threshold value\n",
        "plot_trigger(st2[0], cft, 0.5, 0.27)\n",
        "\n",
        "#STA/LTA trigger threshold=4, represents a large trigger threshold value\n",
        "plot_trigger(st2[0], cft, 4, 0.27)"
      ],
      "metadata": {
        "id": "IG8LF0pYXrZl"
      },
      "execution_count": null,
      "outputs": []
    },
    {
      "cell_type": "markdown",
      "source": [
        "## Selection of STA/LTA de-trigger threshold"
      ],
      "metadata": {
        "id": "bUaUvNV8AAw1"
      }
    },
    {
      "cell_type": "code",
      "source": [
        "cft=classic_sta_lta(st2[0].data, int(5*df), int(20*df))\n",
        "#only sets different STA/LTA de-trigger threshold levels\n",
        "\n",
        "#STA/LTA trigger threshold=1.5\n",
        "plot_trigger(st2[0], cft, 1.5, 0.27)\n",
        "\n",
        "#STA/LTA de-trigger threshold =0.1, represents a small trigger threshold value\n",
        "plot_trigger(st2[0], cft, 1.5, 0.1)\n",
        "\n",
        "#STA/LTA de-trigger threshold =1, represents a large trigger threshold value\n",
        "plot_trigger(st2[0], cft, 1.5, 1)"
      ],
      "metadata": {
        "id": "MaACOKeZYXmH"
      },
      "execution_count": null,
      "outputs": []
    }
  ]
}