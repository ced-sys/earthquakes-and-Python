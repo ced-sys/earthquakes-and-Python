{
  "nbformat": 4,
  "nbformat_minor": 0,
  "metadata": {
    "colab": {
      "private_outputs": true,
      "provenance": [],
      "authorship_tag": "ABX9TyMd1TmGa3Zy6+plPCSWcQje",
      "include_colab_link": true
    },
    "kernelspec": {
      "name": "python3",
      "display_name": "Python 3"
    },
    "language_info": {
      "name": "python"
    }
  },
  "cells": [
    {
      "cell_type": "markdown",
      "metadata": {
        "id": "view-in-github",
        "colab_type": "text"
      },
      "source": [
        "<a href=\"https://colab.research.google.com/github/cedamusk/earthquake-prediction-using-Python/blob/main/STA_LTA.ipynb\" target=\"_parent\"><img src=\"https://colab.research.google.com/assets/colab-badge.svg\" alt=\"Open In Colab\"/></a>"
      ]
    },
    {
      "cell_type": "code",
      "execution_count": null,
      "metadata": {
        "id": "eOgE1E7OylTC"
      },
      "outputs": [],
      "source": [
        "!pip install obspy #installs obspy"
      ]
    },
    {
      "cell_type": "code",
      "source": [
        "import numpy as np\n",
        "from obspy import read\n",
        "from obspy.signal.trigger import classic_sta_lta, plot_trigger\n",
        "import matplotlib.pyplot as plt"
      ],
      "metadata": {
        "id": "2x1jbps_17Iw"
      },
      "execution_count": null,
      "outputs": []
    },
    {
      "cell_type": "code",
      "source": [
        "!wget https://examples.obspy.org/ev0_6.a01.gse2 -O sample_data.gse2 #Download sample seismic data"
      ],
      "metadata": {
        "id": "8U0K-PSi2ISX"
      },
      "execution_count": null,
      "outputs": []
    },
    {
      "cell_type": "code",
      "source": [
        "#read the seismic data\n",
        "st=read(\"sample_data.gse2\")\n",
        "tr=st[0]#we'll use the first trace"
      ],
      "metadata": {
        "id": "K1HII6jX4NwF"
      },
      "execution_count": null,
      "outputs": []
    },
    {
      "cell_type": "code",
      "source": [
        "tr.filter('bandpass', freqmin=1, freqmax=20)#apply a bandpass filter"
      ],
      "metadata": {
        "id": "WcOuVfYf5DYJ"
      },
      "execution_count": null,
      "outputs": []
    },
    {
      "cell_type": "code",
      "source": [
        "#Calculate STA/LTA\n",
        "sta_length=3#Short term average window (in seconds)\n",
        "lta_length=30#Long term average window (in seconds)\n",
        "cft=classic_sta_lta(tr.data, int(sta_length*tr.stats.sampling_rate), int(lta_length*tr.stats.sampling_rate))"
      ],
      "metadata": {
        "id": "kV6SKvca5LEE"
      },
      "execution_count": null,
      "outputs": []
    },
    {
      "cell_type": "code",
      "source": [
        "#Define trigger on and off thresholds\n",
        "on_trigger=3.5\n",
        "off_trigger=1.5"
      ],
      "metadata": {
        "id": "5rJbtHnk5k5k"
      },
      "execution_count": null,
      "outputs": []
    },
    {
      "cell_type": "code",
      "source": [
        "#Plot the results\n",
        "plt.figure(figsize=(12,8))\n",
        "plot_trigger(tr, cft, on_trigger, off_trigger)\n",
        "plt.show()"
      ],
      "metadata": {
        "id": "tkULbFC655lq"
      },
      "execution_count": null,
      "outputs": []
    },
    {
      "cell_type": "code",
      "source": [
        "#Print detected events\n",
        "triggers=[]\n",
        "trigger_on=False\n",
        "for i, ratio in enumerate(cft):\n",
        "  if not trigger_on and ratio>on_trigger:\n",
        "    triggers.append((\"on\", tr.stats.starttime+i/tr.stats.sampling_rate))\n",
        "    trigger_on=True\n",
        "  elif trigger_on and ratio<off_trigger:\n",
        "    triggers.append((\"off\", tr.stats.starttime+i/tr.stats.sampling_rate))\n",
        "    trigger_on=False"
      ],
      "metadata": {
        "id": "hnggyVdZ6GYh"
      },
      "execution_count": null,
      "outputs": []
    },
    {
      "cell_type": "code",
      "source": [
        "print(\"Detected events:\")\n",
        "for trigger in triggers:\n",
        "  print(f\"{'Trigger on' if trigger[0]=='on'else'Trigger off'}at{trigger[1]}\")"
      ],
      "metadata": {
        "id": "BkoqUt2B7Cgp"
      },
      "execution_count": null,
      "outputs": []
    }
  ]
}