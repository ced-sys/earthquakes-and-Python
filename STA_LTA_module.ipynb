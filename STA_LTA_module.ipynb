{
  "nbformat": 4,
  "nbformat_minor": 0,
  "metadata": {
    "colab": {
      "private_outputs": true,
      "provenance": [],
      "authorship_tag": "ABX9TyN30LkIDAe9hayvKKNMXSBq",
      "include_colab_link": true
    },
    "kernelspec": {
      "name": "python3",
      "display_name": "Python 3"
    },
    "language_info": {
      "name": "python"
    }
  },
  "cells": [
    {
      "cell_type": "markdown",
      "metadata": {
        "id": "view-in-github",
        "colab_type": "text"
      },
      "source": [
        "<a href=\"https://colab.research.google.com/github/cedamusk/earthquake-prediction-using-Python/blob/main/STA_LTA_module.ipynb\" target=\"_parent\"><img src=\"https://colab.research.google.com/assets/colab-badge.svg\" alt=\"Open In Colab\"/></a>"
      ]
    },
    {
      "cell_type": "markdown",
      "source": [
        "\n",
        "\n",
        ">**Install the Obspy library in your environment**\n"
      ],
      "metadata": {
        "id": "DkL4lRG1vOSW"
      }
    },
    {
      "cell_type": "code",
      "source": [
        "!pip install obspy"
      ],
      "metadata": {
        "id": "kcREbSZZQh3O"
      },
      "execution_count": null,
      "outputs": []
    },
    {
      "cell_type": "markdown",
      "source": [
        "**Import**"
      ],
      "metadata": {
        "id": "6e0n6_-EvYv3"
      }
    },
    {
      "cell_type": "code",
      "execution_count": null,
      "metadata": {
        "id": "zHKJas6gO11j"
      },
      "outputs": [],
      "source": [
        "from obspy.signal.trigger import plot_trigger\n",
        "from obspy.signal.trigger import classic_sta_lta"
      ]
    },
    {
      "cell_type": "markdown",
      "source": [
        "**Choose an event**"
      ],
      "metadata": {
        "id": "0pcrzY4Fu4av"
      }
    },
    {
      "cell_type": "code",
      "source": [
        "from obspy import UTCDateTime\n",
        "origin_time=UTCDateTime(\"2015-08-11T16:22:15.200000\")\n",
        "#coordinates and the magnitude of the event\n",
        "eq_lon=123.202\n",
        "eq_lat=-8.624\n",
        "eq_dep=171.9\n",
        "eq_mag=3.9"
      ],
      "metadata": {
        "id": "oW4rG_rOQdde"
      },
      "execution_count": null,
      "outputs": []
    },
    {
      "cell_type": "markdown",
      "source": [
        "**Choose a station and get the waveform**"
      ],
      "metadata": {
        "id": "l85q7xsuvM9H"
      }
    },
    {
      "cell_type": "code",
      "source": [],
      "metadata": {
        "id": "w870iH9bvj-M"
      },
      "execution_count": null,
      "outputs": []
    },
    {
      "cell_type": "code",
      "source": [
        "from obspy.clients.fdsn import Client\n",
        "#IRIS is one of the providers\n",
        "client=Client(\"IRIS\")\n",
        "\n",
        "#input station information\n",
        "#network\n",
        "net='YS'\n",
        "#station\n",
        "sta='BAOP'\n",
        "#location\n",
        "loc=''\n",
        "#channel\n",
        "cha='BHZ'\n",
        "\n",
        "#starttime\n",
        "stt=origin_time\n",
        "#endtime\n",
        "edt=origin_time+120\n",
        "\n",
        "#Get the waveforms from the client\n",
        "st=client.get_waveforms(net,sta,loc,cha,stt,edt)\n",
        "st.plot()\n",
        "st.spectrogram()"
      ],
      "metadata": {
        "id": "iNzjFI9zRCqj"
      },
      "execution_count": null,
      "outputs": []
    },
    {
      "cell_type": "markdown",
      "source": [
        "**Filter the Data**"
      ],
      "metadata": {
        "id": "TP21Y5mA4PfG"
      }
    },
    {
      "cell_type": "code",
      "source": [
        "#copy raw data\n",
        "st2=st.copy()\n",
        "\n",
        "#apply the bandpass between\n",
        "st2.filter(\"bandpass\",freqmin=1.0, freqmax=10.0)\n",
        "st2.plot()\n"
      ],
      "metadata": {
        "id": "c1dazh_zRfak"
      },
      "execution_count": null,
      "outputs": []
    },
    {
      "cell_type": "markdown",
      "source": [
        "**Triggering example**"
      ],
      "metadata": {
        "id": "KcFPnkpo4W7_"
      }
    },
    {
      "cell_type": "code",
      "source": [
        "from obspy.signal.trigger import plot_trigger\n",
        "from obspy.signal.trigger import classic_sta_lta\n",
        "df=st2[0].stats.sampling_rate\n",
        "#set the STA=5 seconds, LTA=20 seconds\n",
        "cft=classic_sta_lta(st2[0].data, int(5*df), int(20*df))\n",
        "#set the trigger threshold =1.5, de-trigger threshold=0.27\n",
        "plot_trigger(st2[0], cft, 1.5, 0.27)"
      ],
      "metadata": {
        "id": "EY6oKAQhURqp"
      },
      "execution_count": null,
      "outputs": []
    },
    {
      "cell_type": "markdown",
      "source": [
        "# Adjust the STA/LTA trigger parameters"
      ],
      "metadata": {
        "id": "yi7GKp6B52fp"
      }
    },
    {
      "cell_type": "markdown",
      "source": [
        "**Selection of short-time average window (STA) duration**"
      ],
      "metadata": {
        "id": "3JKoJNmv4boF"
      }
    },
    {
      "cell_type": "code",
      "source": [
        "df=st2[0].stats.sampling_rate\n",
        "#only set different short-time average window (STA) durations\n",
        "#sta=5seconds\n",
        "cft=classic_sta_lta(st2[0].data, int(5*df), int(20*df))\n",
        "plot_trigger(st2[0], cft, 1.5, 0.27)\n",
        "#sta=0.5 seconds, represents a smaller value\n",
        "cft=classic_sta_lta(st2[0].data, int(0.5*df), int(20*df))\n",
        "plot_trigger(st2[0], cft, 1.5, 0.27)\n",
        "#sta=10 seconds, represents a larger value\n",
        "\n",
        "cft=classic_sta_lta(st2[0].data, int(10*df), int(20*df))\n",
        "plot_trigger(st2[0], cft, 1.5, 0.27)"
      ],
      "metadata": {
        "id": "JxPZXdV1UrPM"
      },
      "execution_count": null,
      "outputs": []
    },
    {
      "cell_type": "markdown",
      "source": [
        "**Selection of long-time average window (LTA) duration**"
      ],
      "metadata": {
        "id": "dqVgQgbc4mlS"
      }
    },
    {
      "cell_type": "code",
      "source": [
        "#only set different long-time average window (STA) durations\n",
        "#lta=20 seconds\n",
        "cft=classic_sta_lta(st2[0].data, int(5*df), int(20*df))\n",
        "plot_trigger(st2[0], cft, 1.5, 0.27)\n",
        "\n",
        "#lta=10 seconds, represents a smaller value\n",
        "cft=classic_sta_lta(st2[0].data, int(5*df), int(10*df))\n",
        "plot_trigger(st2[0], cft, 1.5, 0.27)\n",
        "\n",
        "#lta=50 seconds, represents a larger value\n",
        "cft=classic_sta_lta(st2[0].data, int(5*df), int(50*df))\n",
        "plot_trigger(st2[0], cft, 1.5, 0.27)"
      ],
      "metadata": {
        "id": "-oQr3Pb6WkuK"
      },
      "execution_count": null,
      "outputs": []
    },
    {
      "cell_type": "markdown",
      "source": [
        "**Selection of STA/LTA trigger threshold**"
      ],
      "metadata": {
        "id": "VJvbA_zj4wy5"
      }
    },
    {
      "cell_type": "code",
      "source": [
        "cft=classic_sta_lta(st2[0].data, int(5*df), int(20*df))\n",
        "#only set different STA/LTA trigger threshold levels\n",
        "#STA/LTA trigger threshold =1.5\n",
        "plot_trigger(st2[0], cft, 1.5, 0.27)\n",
        "\n",
        "#STA/LTA trigger threshold =0.5, represents a small trigger threshold value\n",
        "plot_trigger(st2[0], cft, 0.5, 0.27)\n",
        "\n",
        "#STA/LTA trigger threshold=4, represents a large trigger threshold value\n",
        "plot_trigger(st2[0], cft, 4, 0.27)"
      ],
      "metadata": {
        "id": "IG8LF0pYXrZl"
      },
      "execution_count": null,
      "outputs": []
    },
    {
      "cell_type": "markdown",
      "source": [
        "**Selection of STA/LTA de-trigger threshold**"
      ],
      "metadata": {
        "id": "XKoOMmp-43dS"
      }
    },
    {
      "cell_type": "code",
      "source": [
        "cft=classic_sta_lta(st2[0].data, int(5*df), int(20*df))\n",
        "#only sets different STA/LTA de-trigger threshold levels\n",
        "\n",
        "#STA/LTA trigger threshold=1.5\n",
        "plot_trigger(st2[0], cft, 1.5, 0.27)\n",
        "\n",
        "#STA/LTA de-trigger threshold =0.1, represents a small trigger threshold value\n",
        "plot_trigger(st2[0], cft, 1.5, 0.1)\n",
        "\n",
        "#STA/LTA de-trigger threshold =1, represents a large trigger threshold value\n",
        "plot_trigger(st2[0], cft, 1.5, 1)"
      ],
      "metadata": {
        "id": "MaACOKeZYXmH"
      },
      "execution_count": null,
      "outputs": []
    },
    {
      "cell_type": "markdown",
      "source": [
        "# STA/LTA Methods"
      ],
      "metadata": {
        "id": "f408z-BZ6E_3"
      }
    },
    {
      "cell_type": "markdown",
      "source": [
        "**Classic STA/LTA**"
      ],
      "metadata": {
        "id": "Ou8SjIA45Aa8"
      }
    },
    {
      "cell_type": "code",
      "source": [
        "df=st2[0].stats.sampling_rate\n",
        "#set the STA=5 seconds, LTA=20 seconds\n",
        "cft=classic_sta_lta(st2[0].data, int(5*df), int(20*df))\n",
        "#set the trigger threshold=1.5, de-trigger threshold=0.27\n",
        "plot_trigger(st2[0], cft, 1.5, 0.27)"
      ],
      "metadata": {
        "id": "JxuNyWG0Y4p1"
      },
      "execution_count": null,
      "outputs": []
    },
    {
      "cell_type": "markdown",
      "source": [
        "**Recursive STA/LTA**"
      ],
      "metadata": {
        "id": "xV6XpV3W5EQY"
      }
    },
    {
      "cell_type": "code",
      "source": [
        "from obspy.signal.trigger import recursive_sta_lta_py as recursive_sta_lta\n",
        "\n",
        "#set the STA=5 seconds, LTA=23 seconds\n",
        "cft=recursive_sta_lta(st2[0].data, int(5*df), int(23*df))\n",
        "\n",
        "#set the trigger threshold=1.5, de-trigger threshold=0.27\n",
        "plot_trigger(st2[0], cft, 1.5, 0.27)"
      ],
      "metadata": {
        "id": "D5W9toYNaEWE"
      },
      "execution_count": null,
      "outputs": []
    },
    {
      "cell_type": "markdown",
      "source": [
        "**carl_sta_trig**"
      ],
      "metadata": {
        "id": "cJqB9W7n5JCg"
      }
    },
    {
      "cell_type": "code",
      "source": [
        "from obspy.signal.trigger import carl_sta_trig\n",
        "#set the STA=5 seconds, LTA=20 seconds\n",
        "cft=carl_sta_trig(st2[0].data, int(5*df), int(20*df), 0.8, 0.8)\n",
        "#set the trigger threshold=20, de-trigger threshold=-50.0\n",
        "plot_trigger(st2[0], cft, 20.0, -50.0)"
      ],
      "metadata": {
        "id": "f0gp8f6nabgz"
      },
      "execution_count": null,
      "outputs": []
    },
    {
      "cell_type": "markdown",
      "source": [
        "**Delayed STA/LTA**"
      ],
      "metadata": {
        "id": "1z4hI1AT5QCb"
      }
    },
    {
      "cell_type": "code",
      "source": [
        "from obspy.signal.trigger import delayed_sta_lta\n",
        "\n",
        "#set the STA=5 seconds, LTA=20 seconds\n",
        "cft=delayed_sta_lta(st2[0].data, int(2*df), int(20*df))\n",
        "\n",
        "#set the trigger threshold=1.5, de-trigger threshold=12\n",
        "plot_trigger(st2[0],cft, 1.5, 12)"
      ],
      "metadata": {
        "id": "wWDpWiUsb8Cz"
      },
      "execution_count": null,
      "outputs": []
    },
    {
      "cell_type": "markdown",
      "source": [
        "**Z-detect**"
      ],
      "metadata": {
        "id": "-UZbeh2l5UhJ"
      }
    },
    {
      "cell_type": "code",
      "source": [
        "from obspy.signal.trigger import z_detect\n",
        "\n",
        "#set the LTA=10 seconds\n",
        "cft=z_detect(st2[0].data, int(10*df))\n",
        "\n",
        "#set the trigger threshold=-0.2, de-trigger threshold=0\n",
        "plot_trigger(st2[0], cft, -0.2, 0)"
      ],
      "metadata": {
        "id": "uXpHlahqd4uI"
      },
      "execution_count": null,
      "outputs": []
    },
    {
      "cell_type": "markdown",
      "source": [
        "# Detect events on multiple traces by using STA/LTA"
      ],
      "metadata": {
        "id": "3mqqzcsT6LuU"
      }
    },
    {
      "cell_type": "markdown",
      "source": [
        "**Get the waveform data with more than 1 station**"
      ],
      "metadata": {
        "id": "FjBLn6435Zm5"
      }
    },
    {
      "cell_type": "code",
      "source": [
        "#set up a list for bulk request\n",
        "bulk=[('YS', 'BAOP','','BHZ', origin_time, origin_time+120),\n",
        "      ('YS', 'HADA','','BHZ', origin_time, origin_time+120),\n",
        "      ('YS','SINA','','BHZ', origin_time, origin_time+120),\n",
        "      ('YS','ALRB','','BHZ', origin_time, origin_time+120)]\n",
        "\n",
        "st_bulk=client.get_waveforms_bulk(bulk)\n",
        "st_bulk.plot()"
      ],
      "metadata": {
        "id": "iYijVX6Kg6k4"
      },
      "execution_count": null,
      "outputs": []
    },
    {
      "cell_type": "markdown",
      "source": [
        "**Filter the data**"
      ],
      "metadata": {
        "id": "V4LnvJsl5hua"
      }
    },
    {
      "cell_type": "code",
      "source": [
        "#make a copy of raw data\n",
        "st2=st_bulk.copy()\n",
        "\n",
        "#apply the bandpass\n",
        "st2.filter('bandpass', freqmin=1, freqmax=10)\n",
        "st2.plot()"
      ],
      "metadata": {
        "id": "UZ5694Yen84u"
      },
      "execution_count": null,
      "outputs": []
    },
    {
      "cell_type": "markdown",
      "source": [
        "**Using STA/LTA to detect events**"
      ],
      "metadata": {
        "id": "uhLgifY65nU7"
      }
    },
    {
      "cell_type": "code",
      "source": [
        "#set a loop to detect the events using STA/LTA, the classic_sta_lta method is used here\n",
        "\n",
        "for tr in st2:\n",
        "  df=tr.stats.sampling_rate\n",
        "  cft=classic_sta_lta(tr.data, int(6*df), int(20*df))\n",
        "  plot_trigger(tr, cft, 3, 0.3)"
      ],
      "metadata": {
        "id": "P99YDDs7ozNt"
      },
      "execution_count": null,
      "outputs": []
    },
    {
      "cell_type": "code",
      "source": [],
      "metadata": {
        "id": "Oa2PqaS_r9kl"
      },
      "execution_count": null,
      "outputs": []
    }
  ]
}